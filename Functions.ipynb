{
 "cells": [
  {
   "cell_type": "code",
   "execution_count": null,
   "id": "e27c5709",
   "metadata": {},
   "outputs": [],
   "source": [
    "#User defined function syntax\n",
    "'''def function(arg,arg):\n",
    "        code\n",
    "        code\n",
    "        code\n",
    "        code\n",
    "        code\n",
    "        return value\n",
    "call the function\n",
    "'''\n"
   ]
  },
  {
   "cell_type": "code",
   "execution_count": 1,
   "id": "544eb38a",
   "metadata": {},
   "outputs": [],
   "source": [
    "#Example\n",
    "#user defined function to compute average \n",
    "def mean_value(given_list):\n",
    "    total=sum(given_list)\n",
    "    average_value=total/len(given_list)\n",
    "    return average_value"
   ]
  },
  {
   "cell_type": "code",
   "execution_count": 2,
   "id": "1418d835",
   "metadata": {},
   "outputs": [
    {
     "data": {
      "text/plain": [
       "5.5"
      ]
     },
     "execution_count": 2,
     "metadata": {},
     "output_type": "execute_result"
    }
   ],
   "source": [
    "#Call the function\n",
    "L=[1,2,3,4,5,6,7,8,9,10]\n",
    "mean_value(L)"
   ]
  },
  {
   "cell_type": "code",
   "execution_count": 4,
   "id": "fae9e750",
   "metadata": {},
   "outputs": [
    {
     "name": "stdout",
     "output_type": "stream",
     "text": [
      "Good morning Vamshi!\n"
     ]
    }
   ],
   "source": [
    "'''write a user defined function to\n",
    "Greet with \"Good morning\" with your name\n",
    "call the function with your name'''\n",
    "def greet(name):\n",
    "    print(f\"Good morning {name}!\")\n",
    "greet(\"Vamshi\")\n",
    "    "
   ]
  },
  {
   "cell_type": "code",
   "execution_count": 20,
   "id": "199f2d92",
   "metadata": {},
   "outputs": [],
   "source": [
    "greet=lambda name:print(f\"Good Morning {name}!\")"
   ]
  },
  {
   "cell_type": "code",
   "execution_count": 21,
   "id": "7a696e59",
   "metadata": {},
   "outputs": [
    {
     "name": "stdout",
     "output_type": "stream",
     "text": [
      "Good Morning Vamshi!\n"
     ]
    }
   ],
   "source": [
    "greet(\"Vamshi\")"
   ]
  },
  {
   "cell_type": "code",
   "execution_count": 22,
   "id": "4eb3997f",
   "metadata": {},
   "outputs": [],
   "source": [
    "#write the lambda function to compute the 3 average numbers\n",
    "average=lambda a,b,c:a+b+c/3"
   ]
  },
  {
   "cell_type": "code",
   "execution_count": 23,
   "id": "19950593",
   "metadata": {},
   "outputs": [
    {
     "data": {
      "text/plain": [
       "20.0"
      ]
     },
     "execution_count": 23,
     "metadata": {},
     "output_type": "execute_result"
    }
   ],
   "source": [
    "average(5,10,15)"
   ]
  },
  {
   "cell_type": "code",
   "execution_count": 33,
   "id": "cdf3e9e2",
   "metadata": {},
   "outputs": [],
   "source": [
    "#Lambda function with list comprehension\n",
    "even =lambda L:[x for x in L if x%2==0]"
   ]
  },
  {
   "cell_type": "code",
   "execution_count": 39,
   "id": "b6a912f2",
   "metadata": {},
   "outputs": [
    {
     "data": {
      "text/plain": [
       "[10, 38, 56, 20]"
      ]
     },
     "execution_count": 39,
     "metadata": {},
     "output_type": "execute_result"
    }
   ],
   "source": [
    "my_list=[10,3,9,38,43,56,20]\n",
    "even(my_list)"
   ]
  },
  {
   "cell_type": "code",
   "execution_count": null,
   "id": "fd94a0a1",
   "metadata": {},
   "outputs": [],
   "source": [
    "#Python modules\n",
    "#-module is a collection of functions\n",
    "#-The file should be saved as .py file(python script file)"
   ]
  }
 ],
 "metadata": {
  "kernelspec": {
   "display_name": "Python 3 (ipykernel)",
   "language": "python",
   "name": "python3"
  },
  "language_info": {
   "codemirror_mode": {
    "name": "ipython",
    "version": 3
   },
   "file_extension": ".py",
   "mimetype": "text/x-python",
   "name": "python",
   "nbconvert_exporter": "python",
   "pygments_lexer": "ipython3",
   "version": "3.11.5"
  }
 },
 "nbformat": 4,
 "nbformat_minor": 5
}
