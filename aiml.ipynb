{
 "cells": [
  {
   "cell_type": "code",
   "execution_count": 2,
   "id": "9f7d9faf",
   "metadata": {},
   "outputs": [
    {
     "name": "stdout",
     "output_type": "stream",
     "text": [
      "[100, 200, 20]\n",
      "[53, 79, 89, 1007]\n"
     ]
    }
   ],
   "source": [
    "#printing odd and even\n",
    "L=[100,53,200,79,20,89,1007]\n",
    "#Segragate them into even numbers list adn odd number list\n",
    "even= [num for num in L if num % 2 == 0]\n",
    "odd = [num for num in L if num % 2 != 0]\n",
    "print(even)\n",
    "print(odd)"
   ]
  },
  {
   "cell_type": "code",
   "execution_count": 2,
   "id": "30e729f3",
   "metadata": {},
   "outputs": [
    {
     "name": "stdout",
     "output_type": "stream",
     "text": [
      "[['apple', 10], ['banana', 5], ['cherry', 10], ['dragon', 10], ['grapes', 9], ['apple', 20]]\n"
     ]
    }
   ],
   "source": [
    "#update the list\n",
    "orders=[['apple',10],['banana',5],['cherry',7],['dragon',10],['grapes',9],['apple',20]]\n",
    "for each in orders:\n",
    "    if each[0]==\"cherry\":\n",
    "        each[1]=10\n",
    "print(orders)"
   ]
  },
  {
   "cell_type": "code",
   "execution_count": 3,
   "id": "625abeaf",
   "metadata": {},
   "outputs": [
    {
     "name": "stdout",
     "output_type": "stream",
     "text": [
      "[['apple', 10], ['banana', 5], ['cherry', 7], ['dragon', 10], ['grapes', 9], ['apple', 20], ['apple', 15]]\n"
     ]
    }
   ],
   "source": [
    "orders=[['apple',10],['banana',5],['cherry',7],['dragon',10],['grapes',9],['apple',20]]\n",
    "for i in range(1):\n",
    "    orders.append(['apple', 15])\n",
    "print(orders)\n",
    "\n"
   ]
  },
  {
   "cell_type": "code",
   "execution_count": 8,
   "id": "343f5809",
   "metadata": {},
   "outputs": [
    {
     "name": "stdout",
     "output_type": "stream",
     "text": [
      "[['apple', 10], ['banana', 5], ['cherry', 7], ['dragon', 10], ['grapes', 9], ['apple', 20], ['apple', 15]]\n",
      "[10, 20, 15]\n",
      "45\n"
     ]
    }
   ],
   "source": [
    "#append and sum of quantity\n",
    "orders=[['apple',10],['banana',5],['cherry',7],['dragon',10],['grapes',9],['apple',20]]\n",
    "total=[]\n",
    "orders.append(['apple',15])\n",
    "print(orders)\n",
    "for each_item in orders:\n",
    "    if each_item[0]=='apple':\n",
    "        total.append(each_item[1])\n",
    "print(total)\n",
    "print(sum(total))"
   ]
  },
  {
   "cell_type": "code",
   "execution_count": 9,
   "id": "50ec18c8",
   "metadata": {},
   "outputs": [
    {
     "name": "stdout",
     "output_type": "stream",
     "text": [
      "(4, 10, 8, 'A', 9.31, False, (9-6j))\n",
      "<class 'tuple'>\n"
     ]
    }
   ],
   "source": [
    "#tuple\n",
    "tup1=(4,10,8,'A',9.31,False,9-6j)\n",
    "print(tup1)\n",
    "print(type(tup1))"
   ]
  },
  {
   "cell_type": "code",
   "execution_count": 14,
   "id": "51726e03",
   "metadata": {},
   "outputs": [
    {
     "name": "stdout",
     "output_type": "stream",
     "text": [
      "tuple : (4, 10, 8, 'A', 9.31, False, (9-6j))\n",
      "(9.31, False)\n"
     ]
    }
   ],
   "source": [
    "#Slicing on tuple\n",
    "tup1=(4,10,8,'A',9.31,False,9-6j)\n",
    "print(\"tuple :\",tup1)\n",
    "print(tup1[4:6])"
   ]
  },
  {
   "cell_type": "code",
   "execution_count": 16,
   "id": "ed40be3f",
   "metadata": {},
   "outputs": [
    {
     "data": {
      "text/plain": [
       "6"
      ]
     },
     "execution_count": 16,
     "metadata": {},
     "output_type": "execute_result"
    }
   ],
   "source": [
    "#finding index in tuple\n",
    "#use index method to find the index value\n",
    "tup1=(4,10,8,'A',9.31,False,9-6j)\n",
    "tup1.index(9-6j)"
   ]
  },
  {
   "cell_type": "code",
   "execution_count": 17,
   "id": "1bc94561",
   "metadata": {},
   "outputs": [
    {
     "data": {
      "text/plain": [
       "3"
      ]
     },
     "execution_count": 17,
     "metadata": {},
     "output_type": "execute_result"
    }
   ],
   "source": [
    "#use count() method of tuple to count number of elements in tuple\n",
    "tup2=(10,20,1,10,30,10)\n",
    "tup2.count(10)"
   ]
  },
  {
   "cell_type": "code",
   "execution_count": 1,
   "id": "4817146b",
   "metadata": {},
   "outputs": [
    {
     "data": {
      "text/plain": [
       "['__class__',\n",
       " '__class_getitem__',\n",
       " '__contains__',\n",
       " '__delattr__',\n",
       " '__delitem__',\n",
       " '__dir__',\n",
       " '__doc__',\n",
       " '__eq__',\n",
       " '__format__',\n",
       " '__ge__',\n",
       " '__getattribute__',\n",
       " '__getitem__',\n",
       " '__getstate__',\n",
       " '__gt__',\n",
       " '__hash__',\n",
       " '__init__',\n",
       " '__init_subclass__',\n",
       " '__ior__',\n",
       " '__iter__',\n",
       " '__le__',\n",
       " '__len__',\n",
       " '__lt__',\n",
       " '__ne__',\n",
       " '__new__',\n",
       " '__or__',\n",
       " '__reduce__',\n",
       " '__reduce_ex__',\n",
       " '__repr__',\n",
       " '__reversed__',\n",
       " '__ror__',\n",
       " '__setattr__',\n",
       " '__setitem__',\n",
       " '__sizeof__',\n",
       " '__str__',\n",
       " '__subclasshook__',\n",
       " 'clear',\n",
       " 'copy',\n",
       " 'fromkeys',\n",
       " 'get',\n",
       " 'items',\n",
       " 'keys',\n",
       " 'pop',\n",
       " 'popitem',\n",
       " 'setdefault',\n",
       " 'update',\n",
       " 'values']"
      ]
     },
     "execution_count": 1,
     "metadata": {},
     "output_type": "execute_result"
    }
   ],
   "source": [
    "dir(dict)"
   ]
  },
  {
   "cell_type": "code",
   "execution_count": 2,
   "id": "e1a93714",
   "metadata": {},
   "outputs": [
    {
     "data": {
      "text/plain": [
       "{'Virat': 90,\n",
       " 'Rohit': 100,\n",
       " 'Rahul': 70,\n",
       " 'Hardik': 9,\n",
       " 'Gill': 20,\n",
       " 'Jadeja': 30,\n",
       " 'Siraz': 15}"
      ]
     },
     "execution_count": 2,
     "metadata": {},
     "output_type": "execute_result"
    }
   ],
   "source": [
    "scores={\"Virat\":90,\"Rohit\":100,\"Rahul\":70,\"Hardik\":9,\"Gill\":20,\"Jadeja\":30,\"Siraz\":15}\n",
    "scores"
   ]
  },
  {
   "cell_type": "code",
   "execution_count": 16,
   "id": "79d03b82",
   "metadata": {},
   "outputs": [
    {
     "data": {
      "text/plain": [
       "{'Virat': 90,\n",
       " 'Rohit': 100,\n",
       " 'Rahul': 70,\n",
       " 'Hardik': 86,\n",
       " 'Gill': 20,\n",
       " 'Jadeja': 30,\n",
       " 'Siraz': 15,\n",
       " 'Aswin': 80,\n",
       " 'Hrdik': 86}"
      ]
     },
     "execution_count": 16,
     "metadata": {},
     "output_type": "execute_result"
    }
   ],
   "source": [
    "scores[\"Aswin\"]=80\n",
    "scores"
   ]
  },
  {
   "cell_type": "code",
   "execution_count": 18,
   "id": "85c18e0a",
   "metadata": {},
   "outputs": [
    {
     "data": {
      "text/plain": [
       "{'Virat': 90,\n",
       " 'Rohit': 100,\n",
       " 'Rahul': 70,\n",
       " 'Hardik': 86,\n",
       " 'Gill': 20,\n",
       " 'Jadeja': 30,\n",
       " 'Siraz': 15,\n",
       " 'Aswin': 80,\n",
       " 'Hrdik': 86}"
      ]
     },
     "execution_count": 18,
     "metadata": {},
     "output_type": "execute_result"
    }
   ],
   "source": [
    "scores.update({\"Hardik\":86})\n",
    "scores"
   ]
  },
  {
   "cell_type": "code",
   "execution_count": 13,
   "id": "e7432c3f",
   "metadata": {},
   "outputs": [
    {
     "data": {
      "text/plain": [
       "{'Virat': 90,\n",
       " 'Rohit': 100,\n",
       " 'Rahul': 70,\n",
       " 'Hardik': 9,\n",
       " 'Gill': 20,\n",
       " 'Jadeja': 30,\n",
       " 'Siraz': 15,\n",
       " 'Aswin': 80,\n",
       " 'Hrdik': 86,\n",
       " 'Pujara': 50}"
      ]
     },
     "execution_count": 13,
     "metadata": {},
     "output_type": "execute_result"
    }
   ],
   "source": [
    "#A new key value pair is added\n",
    "scores.setdefault(\"Pujara\",50)\n",
    "scores"
   ]
  },
  {
   "cell_type": "code",
   "execution_count": 14,
   "id": "a1196866",
   "metadata": {},
   "outputs": [
    {
     "data": {
      "text/plain": [
       "{'Virat': 90,\n",
       " 'Rohit': 100,\n",
       " 'Rahul': 70,\n",
       " 'Hardik': 9,\n",
       " 'Gill': 20,\n",
       " 'Jadeja': 30,\n",
       " 'Siraz': 15,\n",
       " 'Aswin': 80,\n",
       " 'Hrdik': 86}"
      ]
     },
     "execution_count": 14,
     "metadata": {},
     "output_type": "execute_result"
    }
   ],
   "source": [
    "#Removal of elements\n",
    "#1.popitem=removes last pair\n",
    "#2pop(key)=removes specific elements\n",
    "scores.popitem()\n",
    "scores"
   ]
  },
  {
   "cell_type": "code",
   "execution_count": 21,
   "id": "929775f3",
   "metadata": {},
   "outputs": [
    {
     "data": {
      "text/plain": [
       "{'Virat': 90,\n",
       " 'Rohit': 100,\n",
       " 'Hardik': 86,\n",
       " 'Gill': 20,\n",
       " 'Jadeja': 30,\n",
       " 'Siraz': 15,\n",
       " 'Aswin': 80}"
      ]
     },
     "execution_count": 21,
     "metadata": {},
     "output_type": "execute_result"
    }
   ],
   "source": [
    "scores.pop(\"Rahul\")\n",
    "scores"
   ]
  },
  {
   "cell_type": "code",
   "execution_count": 22,
   "id": "6e16b249",
   "metadata": {},
   "outputs": [
    {
     "data": {
      "text/plain": [
       "15"
      ]
     },
     "execution_count": 22,
     "metadata": {},
     "output_type": "execute_result"
    }
   ],
   "source": [
    "#Get=to retrive the values to a specific key\n",
    "scores.get(\"Siraz\")"
   ]
  },
  {
   "cell_type": "code",
   "execution_count": 23,
   "id": "c52484b2",
   "metadata": {},
   "outputs": [
    {
     "data": {
      "text/plain": [
       "{'A': 20, 'B': 20, 'C': 20, 'D': 20}"
      ]
     },
     "execution_count": 23,
     "metadata": {},
     "output_type": "execute_result"
    }
   ],
   "source": [
    "# use of fromkeys() to create a new \n",
    "list1=[\"A\",\"B\",\"C\",\"D\"]\n",
    "my_dict=dict.fromkeys(list1,20)\n",
    "my_dict"
   ]
  },
  {
   "cell_type": "code",
   "execution_count": 29,
   "id": "09eb3668",
   "metadata": {},
   "outputs": [
    {
     "data": {
      "text/plain": [
       "{'A': 20, 20: {30, 'B'}, 'B': 30}"
      ]
     },
     "execution_count": 29,
     "metadata": {},
     "output_type": "execute_result"
    }
   ],
   "source": [
    "my_dict.update({\"A\":20,\"B\":30})\n",
    "my_dict"
   ]
  },
  {
   "cell_type": "code",
   "execution_count": 30,
   "id": "5f117353",
   "metadata": {},
   "outputs": [
    {
     "data": {
      "text/plain": [
       "{'Virat': 90,\n",
       " 'Rohit': 100,\n",
       " 'Hardik': 19,\n",
       " 'Gill': 20,\n",
       " 'Jadeja': 30,\n",
       " 'Siraz': 15,\n",
       " 'Aswin': 80}"
      ]
     },
     "execution_count": 30,
     "metadata": {},
     "output_type": "execute_result"
    }
   ],
   "source": [
    "#update using for loop\n",
    "for k in scores.keys():\n",
    "    if k=='Hardik':\n",
    "        scores[k]=19\n",
    "scores"
   ]
  },
  {
   "cell_type": "code",
   "execution_count": 34,
   "id": "6bd69aea",
   "metadata": {},
   "outputs": [
    {
     "name": "stdout",
     "output_type": "stream",
     "text": [
      "[90, 100, 19, 20, 30, 15, 80]\n",
      "Total Score: 354\n"
     ]
    }
   ],
   "source": [
    "#use for loop to compute total scores\n",
    "scores_list=[]\n",
    "for v in scores.values():\n",
    "    scores_list.append(v)\n",
    "print(scores_list)\n",
    "print(\"Total Score:\",sum(scores_list))"
   ]
  },
  {
   "cell_type": "code",
   "execution_count": null,
   "id": "e774c09a",
   "metadata": {},
   "outputs": [],
   "source": []
  }
 ],
 "metadata": {
  "kernelspec": {
   "display_name": "Python 3 (ipykernel)",
   "language": "python",
   "name": "python3"
  },
  "language_info": {
   "codemirror_mode": {
    "name": "ipython",
    "version": 3
   },
   "file_extension": ".py",
   "mimetype": "text/x-python",
   "name": "python",
   "nbconvert_exporter": "python",
   "pygments_lexer": "ipython3",
   "version": "3.11.5"
  }
 },
 "nbformat": 4,
 "nbformat_minor": 5
}
