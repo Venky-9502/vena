{
 "cells": [
  {
   "cell_type": "code",
   "execution_count": 2,
   "id": "9f7d9faf",
   "metadata": {},
   "outputs": [
    {
     "name": "stdout",
     "output_type": "stream",
     "text": [
      "[100, 200, 20]\n",
      "[53, 79, 89, 1007]\n"
     ]
    }
   ],
   "source": [
    "#printing odd and even\n",
    "L=[100,53,200,79,20,89,1007]\n",
    "#Segragate them into even numbers list adn odd number list\n",
    "even= [num for num in L if num % 2 == 0]\n",
    "odd = [num for num in L if num % 2 != 0]\n",
    "print(even)\n",
    "print(odd)"
   ]
  },
  {
   "cell_type": "code",
   "execution_count": 2,
   "id": "30e729f3",
   "metadata": {},
   "outputs": [
    {
     "name": "stdout",
     "output_type": "stream",
     "text": [
      "[['apple', 10], ['banana', 5], ['cherry', 10], ['dragon', 10], ['grapes', 9], ['apple', 20]]\n"
     ]
    }
   ],
   "source": [
    "#update the list\n",
    "orders=[['apple',10],['banana',5],['cherry',7],['dragon',10],['grapes',9],['apple',20]]\n",
    "for each in orders:\n",
    "    if each[0]==\"cherry\":\n",
    "        each[1]=10\n",
    "print(orders)"
   ]
  },
  {
   "cell_type": "code",
   "execution_count": 3,
   "id": "625abeaf",
   "metadata": {},
   "outputs": [
    {
     "name": "stdout",
     "output_type": "stream",
     "text": [
      "[['apple', 10], ['banana', 5], ['cherry', 7], ['dragon', 10], ['grapes', 9], ['apple', 20], ['apple', 15]]\n"
     ]
    }
   ],
   "source": [
    "orders=[['apple',10],['banana',5],['cherry',7],['dragon',10],['grapes',9],['apple',20]]\n",
    "for i in range(1):\n",
    "    orders.append(['apple', 15])\n",
    "print(orders)\n",
    "\n"
   ]
  },
  {
   "cell_type": "code",
   "execution_count": 8,
   "id": "343f5809",
   "metadata": {},
   "outputs": [
    {
     "name": "stdout",
     "output_type": "stream",
     "text": [
      "[['apple', 10], ['banana', 5], ['cherry', 7], ['dragon', 10], ['grapes', 9], ['apple', 20], ['apple', 15]]\n",
      "[10, 20, 15]\n",
      "45\n"
     ]
    }
   ],
   "source": [
    "#append and sum of quantity\n",
    "orders=[['apple',10],['banana',5],['cherry',7],['dragon',10],['grapes',9],['apple',20]]\n",
    "total=[]\n",
    "orders.append(['apple',15])\n",
    "print(orders)\n",
    "for each_item in orders:\n",
    "    if each_item[0]=='apple':\n",
    "        total.append(each_item[1])\n",
    "print(total)\n",
    "print(sum(total))"
   ]
  },
  {
   "cell_type": "code",
   "execution_count": 9,
   "id": "50ec18c8",
   "metadata": {},
   "outputs": [
    {
     "name": "stdout",
     "output_type": "stream",
     "text": [
      "(4, 10, 8, 'A', 9.31, False, (9-6j))\n",
      "<class 'tuple'>\n"
     ]
    }
   ],
   "source": [
    "#tuple\n",
    "tup1=(4,10,8,'A',9.31,False,9-6j)\n",
    "print(tup1)\n",
    "print(type(tup1))"
   ]
  },
  {
   "cell_type": "code",
   "execution_count": 14,
   "id": "51726e03",
   "metadata": {},
   "outputs": [
    {
     "name": "stdout",
     "output_type": "stream",
     "text": [
      "tuple : (4, 10, 8, 'A', 9.31, False, (9-6j))\n",
      "(9.31, False)\n"
     ]
    }
   ],
   "source": [
    "#Slicing on tuple\n",
    "tup1=(4,10,8,'A',9.31,False,9-6j)\n",
    "print(\"tuple :\",tup1)\n",
    "print(tup1[4:6])"
   ]
  },
  {
   "cell_type": "code",
   "execution_count": 16,
   "id": "ed40be3f",
   "metadata": {},
   "outputs": [
    {
     "data": {
      "text/plain": [
       "6"
      ]
     },
     "execution_count": 16,
     "metadata": {},
     "output_type": "execute_result"
    }
   ],
   "source": [
    "#finding index in tuple\n",
    "#use index method to find the index value\n",
    "tup1=(4,10,8,'A',9.31,False,9-6j)\n",
    "tup1.index(9-6j)"
   ]
  },
  {
   "cell_type": "code",
   "execution_count": 17,
   "id": "1bc94561",
   "metadata": {},
   "outputs": [
    {
     "data": {
      "text/plain": [
       "3"
      ]
     },
     "execution_count": 17,
     "metadata": {},
     "output_type": "execute_result"
    }
   ],
   "source": [
    "#use count() method of tuple to count number of elements in tuple\n",
    "tup2=(10,20,1,10,30,10)\n",
    "tup2.count(10)"
   ]
  },
  {
   "cell_type": "code",
   "execution_count": 1,
   "id": "4817146b",
   "metadata": {},
   "outputs": [
    {
     "data": {
      "text/plain": [
       "['__class__',\n",
       " '__class_getitem__',\n",
       " '__contains__',\n",
       " '__delattr__',\n",
       " '__delitem__',\n",
       " '__dir__',\n",
       " '__doc__',\n",
       " '__eq__',\n",
       " '__format__',\n",
       " '__ge__',\n",
       " '__getattribute__',\n",
       " '__getitem__',\n",
       " '__getstate__',\n",
       " '__gt__',\n",
       " '__hash__',\n",
       " '__init__',\n",
       " '__init_subclass__',\n",
       " '__ior__',\n",
       " '__iter__',\n",
       " '__le__',\n",
       " '__len__',\n",
       " '__lt__',\n",
       " '__ne__',\n",
       " '__new__',\n",
       " '__or__',\n",
       " '__reduce__',\n",
       " '__reduce_ex__',\n",
       " '__repr__',\n",
       " '__reversed__',\n",
       " '__ror__',\n",
       " '__setattr__',\n",
       " '__setitem__',\n",
       " '__sizeof__',\n",
       " '__str__',\n",
       " '__subclasshook__',\n",
       " 'clear',\n",
       " 'copy',\n",
       " 'fromkeys',\n",
       " 'get',\n",
       " 'items',\n",
       " 'keys',\n",
       " 'pop',\n",
       " 'popitem',\n",
       " 'setdefault',\n",
       " 'update',\n",
       " 'values']"
      ]
     },
     "execution_count": 1,
     "metadata": {},
     "output_type": "execute_result"
    }
   ],
   "source": [
    "dir(dict)"
   ]
  },
  {
   "cell_type": "code",
   "execution_count": 2,
   "id": "885eb37a",
   "metadata": {},
   "outputs": [
    {
     "data": {
      "text/plain": [
       "{'Virat': 90,\n",
       " 'Rohit': 100,\n",
       " 'Rahul': 70,\n",
       " 'Hardik': 9,\n",
       " 'Gill': 20,\n",
       " 'Jadeja': 30,\n",
       " 'Siraz': 15}"
      ]
     },
     "execution_count": 2,
     "metadata": {},
     "output_type": "execute_result"
    }
   ],
   "source": [
    "scores={\"Virat\":90,\"Rohit\":100,\"Rahul\":70,\"Hardik\":9,\"Gill\":20,\"Jadeja\":30,\"Siraz\":15}\n",
    "scores"
   ]
  },
  {
   "cell_type": "code",
   "execution_count": 16,
   "id": "8a0d2189",
   "metadata": {},
   "outputs": [
    {
     "data": {
      "text/plain": [
       "{'Virat': 90,\n",
       " 'Rohit': 100,\n",
       " 'Rahul': 70,\n",
       " 'Hardik': 86,\n",
       " 'Gill': 20,\n",
       " 'Jadeja': 30,\n",
       " 'Siraz': 15,\n",
       " 'Aswin': 80,\n",
       " 'Hrdik': 86}"
      ]
     },
     "execution_count": 16,
     "metadata": {},
     "output_type": "execute_result"
    }
   ],
   "source": [
    "scores[\"Aswin\"]=80\n",
    "scores"
   ]
  },
  {
   "cell_type": "code",
   "execution_count": 18,
   "id": "31660ac6",
   "metadata": {},
   "outputs": [
    {
     "data": {
      "text/plain": [
       "{'Virat': 90,\n",
       " 'Rohit': 100,\n",
       " 'Rahul': 70,\n",
       " 'Hardik': 86,\n",
       " 'Gill': 20,\n",
       " 'Jadeja': 30,\n",
       " 'Siraz': 15,\n",
       " 'Aswin': 80,\n",
       " 'Hrdik': 86}"
      ]
     },
     "execution_count": 18,
     "metadata": {},
     "output_type": "execute_result"
    }
   ],
   "source": [
    "scores.update({\"Hardik\":86})\n",
    "scores"
   ]
  },
  {
   "cell_type": "code",
   "execution_count": 13,
   "id": "a2cb95ec",
   "metadata": {},
   "outputs": [
    {
     "data": {
      "text/plain": [
       "{'Virat': 90,\n",
       " 'Rohit': 100,\n",
       " 'Rahul': 70,\n",
       " 'Hardik': 9,\n",
       " 'Gill': 20,\n",
       " 'Jadeja': 30,\n",
       " 'Siraz': 15,\n",
       " 'Aswin': 80,\n",
       " 'Hrdik': 86,\n",
       " 'Pujara': 50}"
      ]
     },
     "execution_count": 13,
     "metadata": {},
     "output_type": "execute_result"
    }
   ],
   "source": [
    "#A new key value pair is added\n",
    "scores.setdefault(\"Pujara\",50)\n",
    "scores"
   ]
  },
  {
   "cell_type": "code",
   "execution_count": 14,
   "id": "65cdaa48",
   "metadata": {},
   "outputs": [
    {
     "data": {
      "text/plain": [
       "{'Virat': 90,\n",
       " 'Rohit': 100,\n",
       " 'Rahul': 70,\n",
       " 'Hardik': 9,\n",
       " 'Gill': 20,\n",
       " 'Jadeja': 30,\n",
       " 'Siraz': 15,\n",
       " 'Aswin': 80,\n",
       " 'Hrdik': 86}"
      ]
     },
     "execution_count": 14,
     "metadata": {},
     "output_type": "execute_result"
    }
   ],
   "source": [
    "#Removal of elements\n",
    "#1.popitem=removes last pair\n",
    "#2pop(key)=removes specific elements\n",
    "scores.popitem()\n",
    "scores"
   ]
  },
  {
   "cell_type": "code",
   "execution_count": 21,
   "id": "d8542797",
   "metadata": {},
   "outputs": [
    {
     "data": {
      "text/plain": [
       "{'Virat': 90,\n",
       " 'Rohit': 100,\n",
       " 'Hardik': 86,\n",
       " 'Gill': 20,\n",
       " 'Jadeja': 30,\n",
       " 'Siraz': 15,\n",
       " 'Aswin': 80}"
      ]
     },
     "execution_count": 21,
     "metadata": {},
     "output_type": "execute_result"
    }
   ],
   "source": [
    "scores.pop(\"Rahul\")\n",
    "scores"
   ]
  },
  {
   "cell_type": "code",
   "execution_count": 22,
   "id": "13ed0a9f",
   "metadata": {},
   "outputs": [
    {
     "data": {
      "text/plain": [
       "15"
      ]
     },
     "execution_count": 22,
     "metadata": {},
     "output_type": "execute_result"
    }
   ],
   "source": [
    "#Get=to retrive the values to a specific key\n",
    "scores.get(\"Siraz\")"
   ]
  },
  {
   "cell_type": "code",
   "execution_count": 23,
   "id": "82412a67",
   "metadata": {},
   "outputs": [
    {
     "data": {
      "text/plain": [
       "{'A': 20, 'B': 20, 'C': 20, 'D': 20}"
      ]
     },
     "execution_count": 23,
     "metadata": {},
     "output_type": "execute_result"
    }
   ],
   "source": [
    "# use of fromkeys() to create a new \n",
    "list1=[\"A\",\"B\",\"C\",\"D\"]\n",
    "my_dict=dict.fromkeys(list1,20)\n",
    "my_dict"
   ]
  },
  {
   "cell_type": "code",
   "execution_count": 29,
   "id": "06ccc43c",
   "metadata": {},
   "outputs": [
    {
     "data": {
      "text/plain": [
       "{'A': 20, 20: {30, 'B'}, 'B': 30}"
      ]
     },
     "execution_count": 29,
     "metadata": {},
     "output_type": "execute_result"
    }
   ],
   "source": [
    "my_dict.update({\"A\":20,\"B\":30})\n",
    "my_dict"
   ]
  },
  {
   "cell_type": "code",
   "execution_count": 30,
   "id": "a2c28ef3",
   "metadata": {},
   "outputs": [
    {
     "data": {
      "text/plain": [
       "{'Virat': 90,\n",
       " 'Rohit': 100,\n",
       " 'Hardik': 19,\n",
       " 'Gill': 20,\n",
       " 'Jadeja': 30,\n",
       " 'Siraz': 15,\n",
       " 'Aswin': 80}"
      ]
     },
     "execution_count": 30,
     "metadata": {},
     "output_type": "execute_result"
    }
   ],
   "source": [
    "#update using for loop\n",
    "for k in scores.keys():\n",
    "    if k=='Hardik':\n",
    "        scores[k]=19\n",
    "scores"
   ]
  },
  {
   "cell_type": "code",
   "execution_count": 34,
   "id": "ee519a5a",
   "metadata": {},
   "outputs": [
    {
     "name": "stdout",
     "output_type": "stream",
     "text": [
      "[90, 100, 19, 20, 30, 15, 80]\n",
      "Total Score: 354\n"
     ]
    }
   ],
   "source": [
    "#use for loop to compute total scores\n",
    "scores_list=[]\n",
    "for v in scores.values():\n",
    "    scores_list.append(v)\n",
    "print(scores_list)\n",
    "print(\"Total Score:\",sum(scores_list))"
   ]
  },
  {
   "cell_type": "code",
   "execution_count": 1,
   "id": "d829d1b3",
   "metadata": {},
   "outputs": [
    {
     "name": "stdout",
     "output_type": "stream",
     "text": [
      "{1, 18, 4, 5, 6, 8, 12}\n"
     ]
    }
   ],
   "source": [
    "s1={1,8,5,6,4,12,18}\n",
    "print(s1)"
   ]
  },
  {
   "cell_type": "code",
   "execution_count": 2,
   "id": "245b5cfa",
   "metadata": {},
   "outputs": [],
   "source": [
    "lst1=[1,8,9,0,10,20,78,8,8,8]\n"
   ]
  },
  {
   "cell_type": "code",
   "execution_count": 3,
   "id": "39255ffe",
   "metadata": {},
   "outputs": [
    {
     "name": "stdout",
     "output_type": "stream",
     "text": [
      "{0, 1, 8, 9, 10, 78, 20}\n",
      "<class 'set'>\n"
     ]
    }
   ],
   "source": [
    "s2=set(lst1)\n",
    "print(s2)\n",
    "print(type(s2))"
   ]
  },
  {
   "cell_type": "code",
   "execution_count": 4,
   "id": "397e3cb1",
   "metadata": {},
   "outputs": [
    {
     "data": {
      "text/plain": [
       "['__and__',\n",
       " '__class__',\n",
       " '__class_getitem__',\n",
       " '__contains__',\n",
       " '__delattr__',\n",
       " '__dir__',\n",
       " '__doc__',\n",
       " '__eq__',\n",
       " '__format__',\n",
       " '__ge__',\n",
       " '__getattribute__',\n",
       " '__getstate__',\n",
       " '__gt__',\n",
       " '__hash__',\n",
       " '__iand__',\n",
       " '__init__',\n",
       " '__init_subclass__',\n",
       " '__ior__',\n",
       " '__isub__',\n",
       " '__iter__',\n",
       " '__ixor__',\n",
       " '__le__',\n",
       " '__len__',\n",
       " '__lt__',\n",
       " '__ne__',\n",
       " '__new__',\n",
       " '__or__',\n",
       " '__rand__',\n",
       " '__reduce__',\n",
       " '__reduce_ex__',\n",
       " '__repr__',\n",
       " '__ror__',\n",
       " '__rsub__',\n",
       " '__rxor__',\n",
       " '__setattr__',\n",
       " '__sizeof__',\n",
       " '__str__',\n",
       " '__sub__',\n",
       " '__subclasshook__',\n",
       " '__xor__',\n",
       " 'add',\n",
       " 'clear',\n",
       " 'copy',\n",
       " 'difference',\n",
       " 'difference_update',\n",
       " 'discard',\n",
       " 'intersection',\n",
       " 'intersection_update',\n",
       " 'isdisjoint',\n",
       " 'issubset',\n",
       " 'issuperset',\n",
       " 'pop',\n",
       " 'remove',\n",
       " 'symmetric_difference',\n",
       " 'symmetric_difference_update',\n",
       " 'union',\n",
       " 'update']"
      ]
     },
     "execution_count": 4,
     "metadata": {},
     "output_type": "execute_result"
    }
   ],
   "source": [
    "dir(set)"
   ]
  },
  {
   "cell_type": "code",
   "execution_count": 12,
   "id": "84b9e10e",
   "metadata": {},
   "outputs": [
    {
     "data": {
      "text/plain": [
       "{0, 1, 4, 5, 6, 8, 9, 10, 12, 18, 20, 78}"
      ]
     },
     "execution_count": 12,
     "metadata": {},
     "output_type": "execute_result"
    }
   ],
   "source": [
    "##Union operationusins | operator\n",
    "s1|s2"
   ]
  },
  {
   "cell_type": "code",
   "execution_count": 9,
   "id": "472cc49e",
   "metadata": {},
   "outputs": [
    {
     "data": {
      "text/plain": [
       "{1, 8}"
      ]
     },
     "execution_count": 9,
     "metadata": {},
     "output_type": "execute_result"
    }
   ],
   "source": [
    "s1 & s2"
   ]
  },
  {
   "cell_type": "code",
   "execution_count": 10,
   "id": "a8f437d7",
   "metadata": {},
   "outputs": [
    {
     "data": {
      "text/plain": [
       "{4, 5, 6, 12, 18}"
      ]
     },
     "execution_count": 10,
     "metadata": {},
     "output_type": "execute_result"
    }
   ],
   "source": [
    "s1-s2"
   ]
  },
  {
   "cell_type": "code",
   "execution_count": 11,
   "id": "8e240140",
   "metadata": {},
   "outputs": [
    {
     "data": {
      "text/plain": [
       "{0, 9, 10, 20, 78}"
      ]
     },
     "execution_count": 11,
     "metadata": {},
     "output_type": "execute_result"
    }
   ],
   "source": [
    "s2-s1"
   ]
  },
  {
   "cell_type": "code",
   "execution_count": 13,
   "id": "a692654e",
   "metadata": {},
   "outputs": [
    {
     "data": {
      "text/plain": [
       "{1, 2, 3, 6, 7, 8}"
      ]
     },
     "execution_count": 13,
     "metadata": {},
     "output_type": "execute_result"
    }
   ],
   "source": [
    "## Symmetric difference\n",
    "s1={1,2,3,4,5}\n",
    "s2={4,5,6,7,8}\n",
    "s1.symmetric_difference(s2)"
   ]
  },
  {
   "cell_type": "code",
   "execution_count": 16,
   "id": "9359c3dc",
   "metadata": {},
   "outputs": [
    {
     "data": {
      "text/plain": [
       "True"
      ]
     },
     "execution_count": 16,
     "metadata": {},
     "output_type": "execute_result"
    }
   ],
   "source": [
    "s1={1,2,3,4,5}\n",
    "s2={1,2,3}\n",
    "s2.issubset(s1)"
   ]
  },
  {
   "cell_type": "code",
   "execution_count": 17,
   "id": "364ad4f5",
   "metadata": {},
   "outputs": [
    {
     "data": {
      "text/plain": [
       "False"
      ]
     },
     "execution_count": 17,
     "metadata": {},
     "output_type": "execute_result"
    }
   ],
   "source": [
    "s1={1,2,3,4,5}\n",
    "s2={1,2,3}\n",
    "s2.issuperset(s1)"
   ]
  },
  {
   "cell_type": "code",
   "execution_count": 18,
   "id": "ffac7ac9",
   "metadata": {},
   "outputs": [
    {
     "name": "stdout",
     "output_type": "stream",
     "text": [
      "Welcome to aiml class\n",
      "we started with python\n",
      "This is an awesome class\n"
     ]
    }
   ],
   "source": [
    "str1=\"Welcome to aiml class\"\n",
    "print(str1)\n",
    "str2=\"we started with python\"\n",
    "print(str2)\n",
    "str3='''This is an awesome class''' \n",
    "print(str3)"
   ]
  },
  {
   "cell_type": "code",
   "execution_count": 19,
   "id": "caeedd9f",
   "metadata": {},
   "outputs": [
    {
     "name": "stdout",
     "output_type": "stream",
     "text": [
      "<class 'str'>\n",
      "<class 'str'>\n",
      "<class 'str'>\n"
     ]
    }
   ],
   "source": [
    "print(type(str1))\n",
    "print(type(str3))\n",
    "print(type(str2))"
   ]
  },
  {
   "cell_type": "code",
   "execution_count": 20,
   "id": "a1b55aac",
   "metadata": {},
   "outputs": [
    {
     "name": "stdout",
     "output_type": "stream",
     "text": [
      "Welcome to aiml class\n"
     ]
    },
    {
     "data": {
      "text/plain": [
       "'me to'"
      ]
     },
     "execution_count": 20,
     "metadata": {},
     "output_type": "execute_result"
    }
   ],
   "source": [
    "#Slicing\n",
    "print(str1)\n",
    "str1[5:10]"
   ]
  },
  {
   "cell_type": "code",
   "execution_count": 21,
   "id": "66fa4e68",
   "metadata": {},
   "outputs": [
    {
     "name": "stdout",
     "output_type": "stream",
     "text": [
      "Welcome to aiml class\n"
     ]
    },
    {
     "data": {
      "text/plain": [
       "['Welcome', 'to', 'aiml', 'class']"
      ]
     },
     "execution_count": 21,
     "metadata": {},
     "output_type": "execute_result"
    }
   ],
   "source": [
    "# Use of split() \n",
    "str1=\"Welcome to aiml class\"\n",
    "print(str1)\n",
    "str1.split()"
   ]
  },
  {
   "cell_type": "code",
   "execution_count": 23,
   "id": "70a63096",
   "metadata": {},
   "outputs": [
    {
     "data": {
      "text/plain": [
       "'The product is awesome;Great Service'"
      ]
     },
     "execution_count": 23,
     "metadata": {},
     "output_type": "execute_result"
    }
   ],
   "source": [
    "#Use join() method\n",
    "reviews=[\"The product is awesome\",\"Great Service\"]\n",
    "joined_string=' '.join(reviews)\n",
    "joined_string"
   ]
  },
  {
   "cell_type": "code",
   "execution_count": 30,
   "id": "d245c3bd",
   "metadata": {},
   "outputs": [
    {
     "data": {
      "text/plain": [
       "'   Hello, How are you?   '"
      ]
     },
     "execution_count": 30,
     "metadata": {},
     "output_type": "execute_result"
    }
   ],
   "source": [
    "#USe of strip() method\n",
    "str5=\"   Hello, How are you?   \"\n",
    "str5"
   ]
  },
  {
   "cell_type": "code",
   "execution_count": 31,
   "id": "7668b4a5",
   "metadata": {},
   "outputs": [
    {
     "data": {
      "text/plain": [
       "'Hello, How are you?'"
      ]
     },
     "execution_count": 31,
     "metadata": {},
     "output_type": "execute_result"
    }
   ],
   "source": [
    "str5.strip()"
   ]
  },
  {
   "cell_type": "code",
   "execution_count": 34,
   "id": "d23d528f",
   "metadata": {},
   "outputs": [
    {
     "data": {
      "text/plain": [
       "'   HELLO, HOW ARE YOU?   '"
      ]
     },
     "execution_count": 34,
     "metadata": {},
     "output_type": "execute_result"
    }
   ],
   "source": [
    "str5.upper()"
   ]
  },
  {
   "cell_type": "code",
   "execution_count": 36,
   "id": "e2d6ccbe",
   "metadata": {},
   "outputs": [
    {
     "name": "stdout",
     "output_type": "stream",
     "text": [
      "product_id {101, 102, 103, 104, 105}\n",
      "/n\n",
      "product_name {'Keyboard', 'Smartphone', 'Headphones', 'Tablet', 'Laptop'}\n",
      "/n\n",
      "category {'Electronics', 'Accessories'}\n",
      "/n\n",
      "pricerange {'High', 'Low', 'Medium'}\n",
      "/n\n",
      "stockavailable {40, 200, 75, 50, 150}\n",
      "/n\n"
     ]
    }
   ],
   "source": [
    "sales_data = {\n",
    "    'product_id': [101, 102, 103, 104, 105],\n",
    "    'product_name': ['Laptop', 'Headphones', 'Smartphone', 'Tablet', 'Keyboard'],\n",
    "    'category': ['Electronics', 'Accessories', 'Electronics', 'Electronics', 'Accessories'],\n",
    "    'pricerange': ['High', 'Medium', 'High', 'Medium', 'Low'],\n",
    "    'stockavailable': [50, 150, 75, 40, 200],\n",
    "}\n",
    "for k,v in sales_data.items():\n",
    "    print(k,set(v))\n",
    "    print('/n')"
   ]
  },
  {
   "cell_type": "code",
   "execution_count": 37,
   "id": "f060fe58",
   "metadata": {},
   "outputs": [
    {
     "name": "stdout",
     "output_type": "stream",
     "text": [
      "Ram\n"
     ]
    }
   ],
   "source": [
    "review_analysis={}\n",
    "for key,review in reviews.items():\n",
    "    e=words=revies"
   ]
  },
  {
   "cell_type": "code",
   "execution_count": 41,
   "id": "25f20c00",
   "metadata": {},
   "outputs": [
    {
     "name": "stdout",
     "output_type": "stream",
     "text": [
      "Ram\n",
      "Shyam\n",
      "Ramya\n",
      "John\n"
     ]
    }
   ],
   "source": [
    "#To acces keys for k in d1.keys\n",
    "d1={\"Ram\":180,\"Shyam\":170,\"Ramya\":176,\"John\":191}\n",
    "for k in d1.keys():\n",
    "    print(k)"
   ]
  },
  {
   "cell_type": "code",
   "execution_count": 42,
   "id": "4a213d63",
   "metadata": {},
   "outputs": [
    {
     "name": "stdout",
     "output_type": "stream",
     "text": [
      "180\n",
      "170\n",
      "176\n",
      "191\n"
     ]
    }
   ],
   "source": [
    "#Acces both kays,values for k,v in di.items()\n",
    "for v in d1.values():\n",
    "    print(v)"
   ]
  },
  {
   "cell_type": "code",
   "execution_count": 43,
   "id": "7abb23ae",
   "metadata": {},
   "outputs": [
    {
     "name": "stdout",
     "output_type": "stream",
     "text": [
      "Ram 180\n",
      "Shyam 170\n",
      "Ramya 176\n",
      "John 191\n"
     ]
    }
   ],
   "source": [
    "for k,v in d1.items():\n",
    "    print(k,v)"
   ]
  }
 ],
 "metadata": {
  "kernelspec": {
   "display_name": "Python 3 (ipykernel)",
   "language": "python",
   "name": "python3"
  },
  "language_info": {
   "codemirror_mode": {
    "name": "ipython",
    "version": 3
   },
   "file_extension": ".py",
   "mimetype": "text/x-python",
   "name": "python",
   "nbconvert_exporter": "python",
   "pygments_lexer": "ipython3",
   "version": "3.11.5"
  }
 },
 "nbformat": 4,
 "nbformat_minor": 5
}
